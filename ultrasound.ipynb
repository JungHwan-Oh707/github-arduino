{
  "nbformat": 4,
  "nbformat_minor": 0,
  "metadata": {
    "colab": {
      "provenance": [],
      "authorship_tag": "ABX9TyPfzBYbvTA4G/ff50ezdrXW",
      "include_colab_link": true
    },
    "kernelspec": {
      "name": "python3",
      "display_name": "Python 3"
    },
    "language_info": {
      "name": "python"
    }
  },
  "cells": [
    {
      "cell_type": "markdown",
      "metadata": {
        "id": "view-in-github",
        "colab_type": "text"
      },
      "source": [
        "<a href=\"https://colab.research.google.com/github/JungHwan-Oh707/github-arduino/blob/main/ultrasound.ipynb\" target=\"_parent\"><img src=\"https://colab.research.google.com/assets/colab-badge.svg\" alt=\"Open In Colab\"/></a>"
      ]
    },
    {
      "cell_type": "code",
      "execution_count": null,
      "metadata": {
        "id": "H-CWAP473WMD"
      },
      "outputs": [],
      "source": [
        "int trigPin = 2; int echoPin = 3;\n",
        "\n",
        "void setup() {\n",
        "Serial.begin(9600);\n",
        "  pinMode(trigPin, OUTPUT);  \n",
        "  pinMode(echoPin, INPUT);  \n",
        "}\n",
        "void loop() {\n",
        "  float duration, distance;\n",
        "  digitalWrite(trigPin, HIGH);   delay(10);\n",
        "  digitalWrite(trigPin, LOW);\n",
        "  duration = pulseIn(echoPin, HIGH);\n",
        "\n",
        "  distance = ((float)(340 * duration) / 10000) / 2;\n",
        "\n",
        "  Serial.print(\"Duration:\");     Serial.print(duration);\n",
        "  Serial.print(\"\\nDistance:\");  Serial.print(distance);\n",
        "  Serial.println(\"cm\\n\");       delay(500);\n",
        "}"
      ]
    }
  ]
}