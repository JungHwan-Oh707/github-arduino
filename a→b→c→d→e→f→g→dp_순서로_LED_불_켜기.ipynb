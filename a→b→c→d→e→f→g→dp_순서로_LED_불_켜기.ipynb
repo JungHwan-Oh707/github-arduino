{
  "nbformat": 4,
  "nbformat_minor": 0,
  "metadata": {
    "colab": {
      "provenance": [],
      "authorship_tag": "ABX9TyNQiiuOFxli8gzz5kWuUxfo",
      "include_colab_link": true
    },
    "kernelspec": {
      "name": "python3",
      "display_name": "Python 3"
    },
    "language_info": {
      "name": "python"
    }
  },
  "cells": [
    {
      "cell_type": "markdown",
      "metadata": {
        "id": "view-in-github",
        "colab_type": "text"
      },
      "source": [
        "<a href=\"https://colab.research.google.com/github/JungHwan-Oh707/github-arduino/blob/main/a%E2%86%92b%E2%86%92c%E2%86%92d%E2%86%92e%E2%86%92f%E2%86%92g%E2%86%92dp_%EC%88%9C%EC%84%9C%EB%A1%9C_LED_%EB%B6%88_%EC%BC%9C%EA%B8%B0.ipynb\" target=\"_parent\"><img src=\"https://colab.research.google.com/assets/colab-badge.svg\" alt=\"Open In Colab\"/></a>"
      ]
    },
    {
      "cell_type": "code",
      "execution_count": null,
      "metadata": {
        "id": "Jk84EJVwd3ws"
      },
      "outputs": [],
      "source": [
        "int pin = 2;\n",
        "\n",
        "void setup() {\n",
        "  for (int i = 2; i <= 9; i++) {\n",
        "    pinMode(i, OUTPUT);\n",
        "  }\n",
        "\n",
        "  digitalWrite(2, HIGH);\n",
        "}\n",
        "\n",
        "void loop() {\n",
        "  for (int i = 0; i < 8; i++) {\n",
        "    for (int j = 0; j < 8; j++) {\n",
        "      if (i == j) digitalWrite(pin + j, HIGH);\n",
        "      else digitalWrite(pin + j, LOW);\n",
        "    }\n",
        "    delay(1000);\n",
        "  }\n",
        "}"
      ]
    }
  ]
}