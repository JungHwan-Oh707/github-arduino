{
  "nbformat": 4,
  "nbformat_minor": 0,
  "metadata": {
    "colab": {
      "provenance": [],
      "authorship_tag": "ABX9TyPiCnA9mdDFpnFm66vqCVDO",
      "include_colab_link": true
    },
    "kernelspec": {
      "name": "python3",
      "display_name": "Python 3"
    },
    "language_info": {
      "name": "python"
    }
  },
  "cells": [
    {
      "cell_type": "markdown",
      "metadata": {
        "id": "view-in-github",
        "colab_type": "text"
      },
      "source": [
        "<a href=\"https://colab.research.google.com/github/JungHwan-Oh707/github-arduino/blob/main/%EC%98%A8%EC%8A%B5%EB%8F%84_%EC%84%BC%EC%84%9C%EC%99%80_%EC%95%84%EB%91%90%EC%9D%B4%EB%85%B8%2C_nodemcu_%EC%97%B0%EA%B2%B0.ipynb\" target=\"_parent\"><img src=\"https://colab.research.google.com/assets/colab-badge.svg\" alt=\"Open In Colab\"/></a>"
      ]
    },
    {
      "cell_type": "code",
      "execution_count": null,
      "metadata": {
        "id": "iCEgbVQh3vdu"
      },
      "outputs": [],
      "source": [
        "#include <SoftwareSerial.h> // SoftwareSerial 라이브러리 사용\n",
        "#include <DHT.h> // DHT 라이브러리 사용\n",
        "// SoftwareSerial 객체 생성\n",
        "SoftwareSerial esp8266(2, 3); // RX, TX\n",
        "// DHT11 센서 객체 생성\n",
        "#define DHTPIN 4 // DHT11 센서 핀 번호\n",
        "#define DHTTYPE DHT11 // DHT11 센서 타입\n",
        "DHT dht(DHTPIN, DHTTYPE);\n",
        "void setup() {\n",
        "Serial.begin(9600); // 시리얼 통신 시작\n",
        "esp8266.begin(9600); // esp8266와 소통하는 시리얼 통신 시작\n",
        "dht.begin(); // DHT11 센서 초기화\n",
        "}\n",
        "void loop() {\n",
        "// DHT11 센서에서 온도와 습도 값 읽기\n",
        "float h = dht.readHumidity(); // 습도\n",
        "float t = dht.readTemperature(); // 온도(섭씨)\n",
        "// esp8266를 통해 데이터 전송\n",
        "esp8266.println(\"AT+CIPSTART=\\\"TCP\\\",\\\"your_ip_address\\\",80\"); // 서버와 연결\n",
        "delay(1000); // 1초 대기\n",
        "String cmd = \"GET /data?temp=\"; // GET 요청 생성\n",
        "cmd += String(t); // 온도 값을 추가\n",
        "cmd += \"&humid=\"; // 습도 값 추가\n",
        "cmd += String(h); // 습도 값을 추가\n",
        "cmd += \" HTTP/1.1\\r\\nHost: your_ip_address\\r\\n\\r\\n\"; // HTTP 헤더 추가\n",
        "esp8266.println(\"AT+CIPSEND=\" + String(cmd.length())); // 데이터 길이 설정\n",
        "delay(1000); // 1초 대기\n",
        "esp8266.println(cmd); // 데이터 전송\n",
        "delay(1000); // 1초 대기\n",
        "esp8266.println(\"AT+CIPCLOSE\"); // 서버와 연결 종료\n",
        "delay(1000); // 1초 대기\n",
        "// 시리얼 모니터에 출력\n",
        "Serial.print(\"Temperature: \");\n",
        "Serial.print(t);\n",
        "Serial.print(\"°C, Humidity: \");\n",
        "Serial.print(h);\n",
        "Serial.println(\"%\");\n",
        "delay(5000); // 5초 대기\n",
        "}"
      ]
    }
  ]
}