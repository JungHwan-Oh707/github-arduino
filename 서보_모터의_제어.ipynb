{
  "nbformat": 4,
  "nbformat_minor": 0,
  "metadata": {
    "colab": {
      "provenance": [],
      "authorship_tag": "ABX9TyOp6PhhX9u9NXuCVIlCnQIl",
      "include_colab_link": true
    },
    "kernelspec": {
      "name": "python3",
      "display_name": "Python 3"
    },
    "language_info": {
      "name": "python"
    }
  },
  "cells": [
    {
      "cell_type": "markdown",
      "metadata": {
        "id": "view-in-github",
        "colab_type": "text"
      },
      "source": [
        "<a href=\"https://colab.research.google.com/github/JungHwan-Oh707/github-arduino/blob/main/%EC%84%9C%EB%B3%B4_%EB%AA%A8%ED%84%B0%EC%9D%98_%EC%A0%9C%EC%96%B4.ipynb\" target=\"_parent\"><img src=\"https://colab.research.google.com/assets/colab-badge.svg\" alt=\"Open In Colab\"/></a>"
      ]
    },
    {
      "cell_type": "code",
      "execution_count": null,
      "metadata": {
        "id": "mdUOwtf5Ko9O"
      },
      "outputs": [],
      "source": [
        "#include <Servo.h>\n",
        "\n",
        "Servo myServo; // 서보모터를 제어하기 위한 서보 객체의 생성\n",
        "// 대부분의 보드에서 서보 객체를 12개까지 생성할 수 있음\n",
        "int angle = 90; // 서보 위치(각도)를 저장하기 위한 변수\n",
        "void setup() {\n",
        "myServo.attach(12); // 핀 12번에 연결된 서보를 서보 객체에 배속시킴\n",
        "}\n",
        "void loop() {\n",
        "for (angle = 0; angle <= 180; angle += 1) { // 0도에서 180도로 1도씩 이동\n",
        "myServo.write(angle); // pos가 가진 각도의 위치로 이동\n",
        "delay(15); // 서보가 해당 위치에 도달할 때까지 15ms 대기\n",
        "}\n",
        "for (angle = 180; angle >= 0; angle -= 1) { // 180도에서 0도로 1도씩 이동\n",
        "myServo.write(angle); // pos가 가진 각도의 위치로 이동\n",
        "delay(15); // 서보가 해당 위치에 도달할 때까지 15ms 대기\n",
        "} \n",
        "}"
      ]
    }
  ]
}