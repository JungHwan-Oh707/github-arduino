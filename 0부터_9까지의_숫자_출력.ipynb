{
  "nbformat": 4,
  "nbformat_minor": 0,
  "metadata": {
    "colab": {
      "provenance": [],
      "authorship_tag": "ABX9TyPfGHF+HSM8TS9qu1AYDmWf",
      "include_colab_link": true
    },
    "kernelspec": {
      "name": "python3",
      "display_name": "Python 3"
    },
    "language_info": {
      "name": "python"
    }
  },
  "cells": [
    {
      "cell_type": "markdown",
      "metadata": {
        "id": "view-in-github",
        "colab_type": "text"
      },
      "source": [
        "<a href=\"https://colab.research.google.com/github/JungHwan-Oh707/github-arduino/blob/main/0%EB%B6%80%ED%84%B0_9%EA%B9%8C%EC%A7%80%EC%9D%98_%EC%88%AB%EC%9E%90_%EC%B6%9C%EB%A0%A5.ipynb\" target=\"_parent\"><img src=\"https://colab.research.google.com/assets/colab-badge.svg\" alt=\"Open In Colab\"/></a>"
      ]
    },
    {
      "cell_type": "code",
      "execution_count": null,
      "metadata": {
        "id": "dREwBRhPf0Mg"
      },
      "outputs": [],
      "source": [
        "byte numbers[10][8] = {\n",
        "  { 1, 1, 1, 1, 1, 1, 0, 0 },  // 0\n",
        "  { 0, 1, 1, 0, 0, 0, 0, 0 },  // 1\n",
        "  { 1, 1, 0, 1, 1, 0, 1, 0 },  // 2\n",
        "  { 1, 1, 1, 1, 0, 0, 1, 0 },  // 3\n",
        "  { 0, 1, 1, 0, 0, 1, 1, 0 },  // 4\n",
        "  { 1, 0, 1, 1, 0, 1, 1, 0 },  // 5\n",
        "  { 1, 0, 1, 1, 1, 1, 1, 0 },  // 6\n",
        "  { 1, 1, 1, 0, 0, 1, 0, 0 },  // 7\n",
        "  { 1, 1, 1, 1, 1, 1, 1, 0 },  // 8\n",
        "  { 1, 1, 1, 1, 0, 1, 1, 0 }   // 9\n",
        "};\n",
        "\n",
        "int pin = 2;\n",
        "int num = 0;\n",
        "\n",
        "void setup() {\n",
        "  for (int i = 2; i <= 9; i++) {\n",
        "    pinMode(i, OUTPUT);\n",
        "  }\n",
        "  digitalWrite(9, HIGH);\n",
        "}\n",
        "\n",
        "void loop() {\n",
        "  for (int i = 0; i < 8; i++) {\n",
        "    digitalWrite(pin + i, numbers[num][i]);\n",
        "  }\n",
        "  num++;\n",
        "  if (num > 9) num = 0;\n",
        "  delay(1000);\n",
        "}"
      ]
    }
  ]
}