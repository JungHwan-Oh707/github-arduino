{
  "nbformat": 4,
  "nbformat_minor": 0,
  "metadata": {
    "colab": {
      "provenance": [],
      "authorship_tag": "ABX9TyNtgDC6NXboDan5mlLPwxG0",
      "include_colab_link": true
    },
    "kernelspec": {
      "name": "python3",
      "display_name": "Python 3"
    },
    "language_info": {
      "name": "python"
    }
  },
  "cells": [
    {
      "cell_type": "markdown",
      "metadata": {
        "id": "view-in-github",
        "colab_type": "text"
      },
      "source": [
        "<a href=\"https://colab.research.google.com/github/JungHwan-Oh707/github-arduino/blob/main/%ED%91%B8%EC%8B%9C%EB%B2%84%ED%8A%BC_%EC%9D%B4%EC%9A%A9%ED%95%9C_%EC%B9%B4%EC%9A%B4%ED%84%B0_%EA%B5%AC%ED%98%84.ipynb\" target=\"_parent\"><img src=\"https://colab.research.google.com/assets/colab-badge.svg\" alt=\"Open In Colab\"/></a>"
      ]
    },
    {
      "cell_type": "code",
      "execution_count": null,
      "metadata": {
        "id": "UeiqPYkcogKf"
      },
      "outputs": [],
      "source": [
        "int num = 0;\n",
        "\n",
        "byte numbers[10][8] = {\n",
        "  { 1, 1, 1, 1, 1, 1, 0, 0 },  // 0\n",
        "  { 0, 1, 1, 0, 0, 0, 0, 0 },  // 1\n",
        "  { 1, 1, 0, 1, 1, 0, 1, 0 },  // 2\n",
        "  { 1, 1, 1, 1, 0, 0, 1, 0 },  // 3\n",
        "  { 0, 1, 1, 0, 0, 1, 1, 0 },  // 4\n",
        "  { 1, 0, 1, 1, 0, 1, 1, 0 },  // 5\n",
        "  { 1, 0, 1, 1, 1, 1, 1, 0 },  // 6\n",
        "  { 1, 1, 1, 0, 0, 1, 0, 0 },  // 7\n",
        "  { 1, 1, 1, 1, 1, 1, 1, 0 },  // 8\n",
        "  { 1, 1, 1, 1, 0, 1, 1, 0 }   // 9\n",
        "};\n",
        "\n",
        "void displayNumbers(int n) {\n",
        "  int pin = 2;\n",
        "  for (int i = 0; i < 8; i++) {\n",
        "    digitalWrite(pin + i, numbers[n][i]);\n",
        "  }\n",
        "}\n",
        "\n",
        "void setup() {\n",
        "  pinMode(12, INPUT);\n",
        "  for (int i = 2; i <= 9; i++) {\n",
        "    pinMode(i, OUTPUT);\n",
        "  }\n",
        "  digitalWrite(9, HIGH);\n",
        "}\n",
        "\n",
        "void loop() {\n",
        "  if (digitalRead(12) == HIGH) {\n",
        "    num = random(6);\n",
        "    num = num + 1;\n",
        "    displayNumbers(num);\n",
        "  }\n",
        "  delay(300);\n",
        "}"
      ]
    }
  ]
}