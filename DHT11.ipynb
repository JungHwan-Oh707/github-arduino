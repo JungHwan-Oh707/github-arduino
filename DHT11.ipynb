{
  "nbformat": 4,
  "nbformat_minor": 0,
  "metadata": {
    "colab": {
      "provenance": [],
      "authorship_tag": "ABX9TyMl1MGFEPeU+KCwc+YYLnyq",
      "include_colab_link": true
    },
    "kernelspec": {
      "name": "python3",
      "display_name": "Python 3"
    },
    "language_info": {
      "name": "python"
    }
  },
  "cells": [
    {
      "cell_type": "markdown",
      "metadata": {
        "id": "view-in-github",
        "colab_type": "text"
      },
      "source": [
        "<a href=\"https://colab.research.google.com/github/JungHwan-Oh707/github-arduino/blob/main/DHT11.ipynb\" target=\"_parent\"><img src=\"https://colab.research.google.com/assets/colab-badge.svg\" alt=\"Open In Colab\"/></a>"
      ]
    },
    {
      "cell_type": "code",
      "execution_count": null,
      "metadata": {
        "id": "H-CWAP473WMD"
      },
      "outputs": [],
      "source": [
        "#include <Adafruit_Sensor.h>\n",
        "\n",
        "#include <DHT.h>\n",
        "#include <DHT_U.h>\n",
        "\n",
        "#define DHTPIN 2\n",
        "#define DHTTYPE DHT11\n",
        "DHT dht(DHTPIN, DHTTYPE);\n",
        "void setup() {\n",
        "  Serial.begin(9600); \n",
        "}\n",
        "void loop() {\n",
        "  delay(2000);\n",
        "  int h = dht.readHumidity();\n",
        "  int t = dht.readTemperature();\n",
        "  Serial.print(\"Humidity: \");  Serial.print(h);\n",
        "  Serial.print(\" %\\t\");         Serial.print(\"Temperature: \");\n",
        "  Serial.print(t);                 Serial.println(\" C\");\n",
        "}"
      ]
    }
  ]
}