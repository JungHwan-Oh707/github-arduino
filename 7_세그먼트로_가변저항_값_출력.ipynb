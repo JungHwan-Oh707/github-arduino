{
  "nbformat": 4,
  "nbformat_minor": 0,
  "metadata": {
    "colab": {
      "provenance": [],
      "authorship_tag": "ABX9TyMu2/WOm+JdMjAZW6Scx650",
      "include_colab_link": true
    },
    "kernelspec": {
      "name": "python3",
      "display_name": "Python 3"
    },
    "language_info": {
      "name": "python"
    }
  },
  "cells": [
    {
      "cell_type": "markdown",
      "metadata": {
        "id": "view-in-github",
        "colab_type": "text"
      },
      "source": [
        "<a href=\"https://colab.research.google.com/github/JungHwan-Oh707/github-arduino/blob/main/7_%EC%84%B8%EA%B7%B8%EB%A8%BC%ED%8A%B8%EB%A1%9C_%EA%B0%80%EB%B3%80%EC%A0%80%ED%95%AD_%EA%B0%92_%EC%B6%9C%EB%A0%A5.ipynb\" target=\"_parent\"><img src=\"https://colab.research.google.com/assets/colab-badge.svg\" alt=\"Open In Colab\"/></a>"
      ]
    },
    {
      "cell_type": "code",
      "execution_count": null,
      "metadata": {
        "id": "ZqjwSLTuw--x"
      },
      "outputs": [],
      "source": [
        "int segPin[8] = {2, 3, 4, 5, 6, 7, 8,9};\n",
        "int digPin[4] = {13, 12, 11, 10};\n",
        "int delayTime = 3;\n",
        "byte Numbers[10] = {0b11111100, 0b01100000, 0b11011010, 0b11110010, 0b01100110,\n",
        "0b10110110, 0b10111110, 0b11100100, 0b11111110, 0b11110110};\n",
        "void displayNumber(int pos, int n) {\n",
        "// 출력할 자리 찾기\n",
        "for (int i=0; i<4; i++) {\n",
        "if (digPin[i] == pos) {\n",
        "digitalWrite(digPin[i], LOW);\n",
        "}\n",
        "else {\n",
        "digitalWrite(digPin[i], HIGH);\n",
        "}\n",
        "}\n",
        "// 8개 세그먼트를 제어해서 원하는 숫자 출력\n",
        "for(int i = 0; i < 7; i++){\n",
        "byte segment = (Numbers[n] & (0x02 << i)) >> i+1;\n",
        "if(segment == 1){\n",
        "digitalWrite(segPin[6 - i], HIGH);\n",
        "} else {\n",
        "digitalWrite(segPin[6 - i], LOW);\n",
        "}\n",
        "}\n",
        "delay(delayTime);\n",
        "}\n",
        "\n",
        "void setup() {\n",
        "Serial.begin(9600);\n",
        "for(int i=0; i<4; i++) {\n",
        "pinMode(digPin[i], OUTPUT);\n",
        "}\n",
        "for(int i=0; i<8; i++) {\n",
        "pinMode(segPin[i], OUTPUT);\n",
        "}\n",
        "}\n",
        "void clearLEDs() {\n",
        "for(int i=0; i<4; i++) {\n",
        "digitalWrite(digPin[i], LOW);\n",
        "}\n",
        "for(int i=0; i<8; i++) {\n",
        "digitalWrite(segPin[i], LOW);\n",
        "} \n",
        "}\n",
        "\n",
        "int n =0;\n",
        "int readValue; \n",
        "void loop() {\n",
        "n++;\n",
        "if (n % 50 == 1) {\n",
        "readValue = analogRead(A0);\n",
        "Serial.println(readValue);\n",
        "}\n",
        "int c[4] = {0, 0, 0, 0};\n",
        "c[0] = readValue/1000;     // 1000의 자리 숫자\n",
        "c[1]=(readValue/100)%10; // 100의 자리 숫자\n",
        "c[2]=(readValue/10)%10;  // 10의 자리 숫자\n",
        "c[3]=readValue%10;        // 1의 자리 숫자\n",
        "for (int i=0; i<4; i++) displayNumber(digPin[i],c[i]);\n",
        "clearLEDs();\n",
        "delay(delayTime);\n",
        "}\n"
      ]
    }
  ]
}