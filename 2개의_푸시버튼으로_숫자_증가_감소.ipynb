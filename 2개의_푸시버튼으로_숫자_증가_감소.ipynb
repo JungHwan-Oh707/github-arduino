{
  "nbformat": 4,
  "nbformat_minor": 0,
  "metadata": {
    "colab": {
      "provenance": [],
      "authorship_tag": "ABX9TyPgAWb7IV4vWcsKA5IFBMRX",
      "include_colab_link": true
    },
    "kernelspec": {
      "name": "python3",
      "display_name": "Python 3"
    },
    "language_info": {
      "name": "python"
    }
  },
  "cells": [
    {
      "cell_type": "markdown",
      "metadata": {
        "id": "view-in-github",
        "colab_type": "text"
      },
      "source": [
        "<a href=\"https://colab.research.google.com/github/JungHwan-Oh707/github-arduino/blob/main/2%EA%B0%9C%EC%9D%98_%ED%91%B8%EC%8B%9C%EB%B2%84%ED%8A%BC%EC%9C%BC%EB%A1%9C_%EC%88%AB%EC%9E%90_%EC%A6%9D%EA%B0%80_%EA%B0%90%EC%86%8C.ipynb\" target=\"_parent\"><img src=\"https://colab.research.google.com/assets/colab-badge.svg\" alt=\"Open In Colab\"/></a>"
      ]
    },
    {
      "cell_type": "code",
      "execution_count": null,
      "metadata": {
        "id": "zjxQcj7PrMxy"
      },
      "outputs": [],
      "source": [
        "int num = 0;\n",
        "\n",
        "byte numbers[10] = { 0xFC, 0x60, 0xDA, 0xF2, 0x66, 0xB6, 0xBE, 0xE4, 0xFE, 0xF6 };\n",
        "\n",
        "void displayNumber(int n) {\n",
        "  int pin = 2;\n",
        "  for (int i = 0; i < 8; i++) {\n",
        "    boolean state = bitRead(numbers[n], 7 - i);\n",
        "    digitalWrite(pin + i, state);\n",
        "  }\n",
        "}\n",
        "\n",
        "void setup() {\n",
        "  pinMode(12, INPUT);\n",
        "  pinMode(13, INPUT);\n",
        "  for (int i = 2; i <= 9; i++) {\n",
        "    pinMode(i, OUTPUT);\n",
        "  }\n",
        "  digitalWrite(9, HIGH);\n",
        "}\n",
        "\n",
        "void loop() {\n",
        "  if (digitalRead(12) == HIGH) {\n",
        "    ++num;\n",
        "    if (num > 9) {\n",
        "      num = 0;\n",
        "    }\n",
        "  }\n",
        "  if (digitalRead(13) == HIGH) {\n",
        "    --num;\n",
        "    if (num < 0) {\n",
        "      num = 9;\n",
        "    }\n",
        "  }\n",
        "  displayNumber(num);\n",
        "  delay(100);\n",
        "}"
      ]
    }
  ]
}