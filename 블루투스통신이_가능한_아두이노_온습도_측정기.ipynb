{
  "nbformat": 4,
  "nbformat_minor": 0,
  "metadata": {
    "colab": {
      "provenance": [],
      "authorship_tag": "ABX9TyNr7RQ5wwnw82kc1EMUy3le",
      "include_colab_link": true
    },
    "kernelspec": {
      "name": "python3",
      "display_name": "Python 3"
    },
    "language_info": {
      "name": "python"
    }
  },
  "cells": [
    {
      "cell_type": "markdown",
      "metadata": {
        "id": "view-in-github",
        "colab_type": "text"
      },
      "source": [
        "<a href=\"https://colab.research.google.com/github/JungHwan-Oh707/github-arduino/blob/main/%EB%B8%94%EB%A3%A8%ED%88%AC%EC%8A%A4%ED%86%B5%EC%8B%A0%EC%9D%B4_%EA%B0%80%EB%8A%A5%ED%95%9C_%EC%95%84%EB%91%90%EC%9D%B4%EB%85%B8_%EC%98%A8%EC%8A%B5%EB%8F%84_%EC%B8%A1%EC%A0%95%EA%B8%B0.ipynb\" target=\"_parent\"><img src=\"https://colab.research.google.com/assets/colab-badge.svg\" alt=\"Open In Colab\"/></a>"
      ]
    },
    {
      "cell_type": "code",
      "execution_count": null,
      "metadata": {
        "id": "IbhAechssGNp"
      },
      "outputs": [],
      "source": [
        "#include <DHT.h>\n",
        "#include <DHT_U.h>\n",
        "\n",
        "#include <SoftwareSerial.h>\n",
        "\n",
        "// Define software serial pins\n",
        "SoftwareSerial BTSerial(10, 11); // RX, TX\n",
        "\n",
        "// Define DHT sensor pin\n",
        "#define DHTPIN 2\n",
        "\n",
        "// Define DHT sensor type\n",
        "#define DHTTYPE DHT11\n",
        "\n",
        "// Initialize DHT sensor object\n",
        "DHT dht(DHTPIN, DHTTYPE);\n",
        "\n",
        "void setup() {\n",
        "  // Initialize serial communication\n",
        "  Serial.begin(9600);\n",
        "  while (!Serial) {\n",
        "    ; // Wait for serial port to connect\n",
        "  }\n",
        "\n",
        "  // Initialize software serial communication with Bluetooth module\n",
        "  BTSerial.begin(9600);\n",
        "\n",
        "  // Initialize DHT sensor\n",
        "  dht.begin();\n",
        "}\n",
        "\n",
        "void loop() {\n",
        "  // Read temperature and humidity from DHT sensor\n",
        "  float temperature = dht.readTemperature();\n",
        "  float humidity = dht.readHumidity();\n",
        "\n",
        "  // Check if any reads failed and exit early (to try again).\n",
        "  if (isnan(temperature) || isnan(humidity)) {\n",
        "    Serial.println(\"Failed to read from DHT sensor!\");\n",
        "    return;\n",
        "  }\n",
        "\n",
        "  // Print temperature and humidity to serial monitor\n",
        "  Serial.print(\"Temperature: \");\n",
        "  Serial.print(temperature);\n",
        "  Serial.print(\" °C\\t\");\n",
        "  Serial.print(\"Humidity: \");\n",
        "  Serial.print(humidity);\n",
        "  Serial.println(\" %\");\n",
        "\n",
        "  // Send temperature and humidity to Bluetooth module\n",
        "  BTSerial.print(\"Temperature: \");\n",
        "  BTSerial.print(temperature);\n",
        "  BTSerial.print(\" °C\\t\");\n",
        "  BTSerial.print(\"Humidity: \");\n",
        "  BTSerial.print(humidity);\n",
        "  BTSerial.println(\" %\");\n",
        "\n",
        "  // Wait a short period before sending the next reading\n",
        "  delay(1000);\n",
        "}"
      ]
    }
  ]
}