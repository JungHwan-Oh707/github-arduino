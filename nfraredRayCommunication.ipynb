{
  "nbformat": 4,
  "nbformat_minor": 0,
  "metadata": {
    "colab": {
      "provenance": [],
      "authorship_tag": "ABX9TyP9wpIVhgEwOQFABz7gUDxe",
      "include_colab_link": true
    },
    "kernelspec": {
      "name": "python3",
      "display_name": "Python 3"
    },
    "language_info": {
      "name": "python"
    }
  },
  "cells": [
    {
      "cell_type": "markdown",
      "metadata": {
        "id": "view-in-github",
        "colab_type": "text"
      },
      "source": [
        "<a href=\"https://colab.research.google.com/github/JungHwan-Oh707/github-arduino/blob/main/nfraredRayCommunication.ipynb\" target=\"_parent\"><img src=\"https://colab.research.google.com/assets/colab-badge.svg\" alt=\"Open In Colab\"/></a>"
      ]
    },
    {
      "cell_type": "code",
      "execution_count": null,
      "metadata": {
        "id": "toAWFenhIo_2"
      },
      "outputs": [],
      "source": [
        "/*\n",
        " * IRremote: IRrecvDemo - demonstrates receiving IR codes with IRrecv\n",
        " * An IR detector/demodulator must be connected to the input RECV_PIN.\n",
        " * Version 0.1 July, 2009\n",
        " * Copyright 2009 Ken Shirriff\n",
        " * http://arcfn.com\n",
        " */\n",
        "\n",
        "#include <IRremote.h>\n",
        "\n",
        "int RECV_PIN = 11;\n",
        "\n",
        "IRrecv irrecv(RECV_PIN);\n",
        "\n",
        "decode_results results;\n",
        "\n",
        "void setup()\n",
        "{\n",
        "  Serial.begin(9600);\n",
        "  Serial.println(\"Enabling IRin\");\n",
        "  irrecv.enableIRIn();\n",
        "  Serial.println(\"Enabled IRin\");\n",
        "  pinMode(5, OUTPUT);\n",
        "}\n",
        "\n",
        "void loop() {\n",
        "  if (irrecv.decode(&results)) {\n",
        "  Serial.println(results.value, HEX);\n",
        "  irrecv.resume();\n",
        "  if (results.value == 0xFF30CF) digitalWrite(5, HIGH);\n",
        "  if (results.value == 0xFF18E7) digitalWrite(5, LOW);\n",
        "  }\n",
        "  delay(100);\n",
        "}"
      ]
    }
  ]
}