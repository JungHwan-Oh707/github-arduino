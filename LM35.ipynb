{
  "nbformat": 4,
  "nbformat_minor": 0,
  "metadata": {
    "colab": {
      "provenance": [],
      "authorship_tag": "ABX9TyNnieWreJ06oQNkoCfYzrM6",
      "include_colab_link": true
    },
    "kernelspec": {
      "name": "python3",
      "display_name": "Python 3"
    },
    "language_info": {
      "name": "python"
    }
  },
  "cells": [
    {
      "cell_type": "markdown",
      "metadata": {
        "id": "view-in-github",
        "colab_type": "text"
      },
      "source": [
        "<a href=\"https://colab.research.google.com/github/JungHwan-Oh707/github-arduino/blob/main/LM35.ipynb\" target=\"_parent\"><img src=\"https://colab.research.google.com/assets/colab-badge.svg\" alt=\"Open In Colab\"/></a>"
      ]
    },
    {
      "cell_type": "code",
      "execution_count": null,
      "metadata": {
        "id": "0JG-Vg2p7J_6"
      },
      "outputs": [],
      "source": [
        "// LM35 온도 측정\n",
        "int Pin = A0;   // 입력 핀\n",
        "int reading; \n",
        "float tempC;\n",
        "void setup() {\n",
        "  Serial.begin(9600);   // 시리얼 통신 속도 설정\n",
        "}\n",
        "void loop() {\n",
        "  reading = analogRead(Pin);   // 센서 값 읽어옴\n",
        "  tempC = (5.0*reading*100.0)/1024.0;\n",
        "  Serial.print(tempC);   // 센서 값 섭씨온도로 변환(LM35 계산 공식에 의함)\n",
        "  Serial.println(\" 도\");\n",
        "  delay(1000);   // 온도 측정 간격 설정 (1000 = 1초)\n",
        "}"
      ]
    }
  ]
}