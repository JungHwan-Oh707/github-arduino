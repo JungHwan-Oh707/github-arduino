{
  "nbformat": 4,
  "nbformat_minor": 0,
  "metadata": {
    "colab": {
      "provenance": [],
      "authorship_tag": "ABX9TyOfi2E6Io++XE8sk3CKblds",
      "include_colab_link": true
    },
    "kernelspec": {
      "name": "python3",
      "display_name": "Python 3"
    },
    "language_info": {
      "name": "python"
    }
  },
  "cells": [
    {
      "cell_type": "markdown",
      "metadata": {
        "id": "view-in-github",
        "colab_type": "text"
      },
      "source": [
        "<a href=\"https://colab.research.google.com/github/JungHwan-Oh707/github-arduino/blob/main/%ED%91%B8%EC%8B%9C_%EB%B2%84%ED%8A%BC%EC%9D%84_%EC%9D%B4%EC%9A%A9%ED%95%9C_%EC%84%9C%EB%B3%B4_%EB%AA%A8%ED%84%B0%EC%9D%98_%EC%A0%9C%EC%96%B4.ipynb\" target=\"_parent\"><img src=\"https://colab.research.google.com/assets/colab-badge.svg\" alt=\"Open In Colab\"/></a>"
      ]
    },
    {
      "cell_type": "code",
      "execution_count": null,
      "metadata": {
        "id": "pnvFLJwHKsA-"
      },
      "outputs": [],
      "source": [
        "#include <Servo.h>\n",
        "Servo myServo; // 서보모터 객체를 생성하고 이름을 myServo로 설정\n",
        "int motorPin = 12; // 서보모터를 12번 핀에 연결\n",
        "int pushPin = 7; // 푸시 버튼을 7번 핀에 연결\n",
        "int angle = 90; // 초기에 샤프트는 중간에 위치\n",
        "int state=0; // 회전방향 설정 (state 값 0 :  시계 방향 / 1 : 반시계 방향)\n",
        "void setup() {\n",
        "myServo.attach(motorPin); // 서보 모터를 아두이노의 해당 핀에 연결\n",
        "pinMode(pushPin, INPUT); // 푸시 버튼이 연결된 핀을 입력 모드로 설정\n",
        "Serial.begin(9600); // 시리얼 모니터와 통신 \n",
        "Serial.println(\"Enter the push button.\"); // 시리얼 모니터에 문자열 출력\n",
        "}\n",
        "void loop() {\n",
        "if (digitalRead(pushPin) == HIGH){\n",
        "if (state == 0) { \n",
        "angle += 1; // 각도를 1도씩 증가\n",
        "if (angle>=180) state = 1; // 회전 방향을 반시계 방향으로 전환\n",
        "myServo.write(angle); // angle 값을 서보에게 전달하여 기록\n",
        "delay(10);\n",
        "Serial.println(angle); // 현재 각도를 시리얼 모니터에 표시\n",
        "}\n",
        "else { \n",
        "angle -= 1;\n",
        "if (angle<=0) state = 0; // 회전 방향을 시계 방향으로 전환\n",
        "myServo.write(angle);\n",
        "delay(10);\n",
        "Serial.println(angle); \n",
        "}\n",
        "}\n",
        "}"
      ]
    }
  ]
}